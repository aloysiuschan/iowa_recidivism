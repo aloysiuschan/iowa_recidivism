{
 "cells": [
  {
   "cell_type": "code",
   "execution_count": 1,
   "metadata": {},
   "outputs": [],
   "source": [
    "# the data is obtained from the State of Iowa's data portal: https://data.iowa.gov/Public-Safety/3-Year-Recidivism-for-Offenders-Released-from-Pris/mw8r-vqy4\n",
    "# in this notebook, I use machine learning algorithms to predict prisoner recidivism in Iowa\n",
    "# the prediction problem is a binary classification problem (prisoners either return to prison, or don't)"
   ]
  },
  {
   "cell_type": "code",
   "execution_count": 2,
   "metadata": {},
   "outputs": [
    {
     "name": "stdout",
     "output_type": "stream",
     "text": [
      "All libraries loaded successfully\n"
     ]
    }
   ],
   "source": [
    "# clear all variables, functions, etc\n",
    "%reset -f\n",
    "\n",
    "# ignore warnings\n",
    "import warnings\n",
    "warnings.filterwarnings('ignore')\n",
    "\n",
    "# import libraries\n",
    "import pandas as pd #collection of functions for data processing and analysis modeled after R dataframes with SQL like features\n",
    "import numpy as np #foundational package for scientific computing\n",
    "import matplotlib as mpl #collection of functions for scientific and publication-ready visualization\n",
    "import matplotlib.pyplot as plt\n",
    "from IPython import display #pretty printing of dataframes in Jupyter notebook\n",
    "import seaborn as sns #data visualization\n",
    "\n",
    "print('All libraries loaded successfully')\n",
    "\n",
    "# Configure Visualization Defaults\n",
    "# %matplotlib inline = show plots in Jupyter Notebook browser\n",
    "%matplotlib inline\n",
    "mpl.style.use('ggplot')\n",
    "sns.set_style('white')\n",
    "\n",
    "# Fixing random state for reproducibility\n",
    "np.random.seed(123)"
   ]
  },
  {
   "cell_type": "code",
   "execution_count": 3,
   "metadata": {},
   "outputs": [],
   "source": [
    "# import dataset\n",
    "full = pd.read_csv('../data/Iowa recidivism/3-Year_Recidivism_for_Offenders_Released_from_Prison_in_Iowa.csv')"
   ]
  },
  {
   "cell_type": "code",
   "execution_count": 4,
   "metadata": {},
   "outputs": [],
   "source": [
    "# rename select variables\n",
    "full = full.rename(index = str, columns = {'Race - Ethnicity':'race',\n",
    "                                           'Sex':'sex',\n",
    "                                           'Age At Release ':'age',\n",
    "                                           'Convicting Offense Classification':'offence_class',\n",
    "                                           'Convicting Offense Type':'offence_type',\n",
    "                                           'Release Type':'release_type',\n",
    "                                           'Recidivism - Return to Prison':'recidivism',\n",
    "                                           'Part of Target Population':'targeted'})\n",
    "\n",
    "# keep select variables\n",
    "full = full[['race','sex','age','offence_class','offence_type','release_type','targeted','recidivism']]"
   ]
  },
  {
   "cell_type": "code",
   "execution_count": 5,
   "metadata": {},
   "outputs": [],
   "source": [
    "# check for missing values\n",
    "full.isnull().sum()\n",
    "\n",
    "# impute missing values with column mode\n",
    "for i in list(full):\n",
    "    full[i] = full[i].fillna(full[i].mode()[0])"
   ]
  },
  {
   "cell_type": "code",
   "execution_count": 6,
   "metadata": {},
   "outputs": [
    {
     "name": "stdout",
     "output_type": "stream",
     "text": [
      "0    0.675367\n",
      "1    0.324633\n",
      "Name: recidivism, dtype: float64\n"
     ]
    },
    {
     "data": {
      "image/png": "[encoded data removed]",
      "text/plain": [
       "<Figure size 432x288 with 1 Axes>"
      ]
     },
     "metadata": {},
     "output_type": "display_data"
    }
   ],
   "source": [
    "# recode target variable\n",
    "full.loc[(full['recidivism']=='Yes'),'recidivism'] = '1'\n",
    "full.loc[(full['recidivism']=='No'),'recidivism'] = '0'\n",
    "# convert target variable from string to int datatype\n",
    "full['recidivism'] = full['recidivism'].astype('int')\n",
    "\n",
    "# view the frequencies of the values in 'recidivism'\n",
    "sns.countplot(x='recidivism', data=full)\n",
    "\n",
    "print(full['recidivism'].value_counts()/full.shape[0])\n",
    "# about 67% of prisoners don't come back; a baseline model that always predicts no recidivism will hence achieve 67% accuracy\n",
    "# we want to build a machine learning model that can do better than this baseline model"
   ]
  },
  {
   "cell_type": "code",
   "execution_count": 7,
   "metadata": {},
   "outputs": [
    {
     "name": "stdout",
     "output_type": "stream",
     "text": [
      "White - Non-Hispanic    14616\n",
      "Black - Non-Hispanic     5106\n",
      "White - Hispanic         1284\n",
      "Others                    640\n",
      "Name: race, dtype: int64\n",
      "--------------------------------------------------\n",
      "M    18928\n",
      "F     2718\n",
      "Name: sex, dtype: int64\n",
      "--------------------------------------------------\n",
      "25-34           7922\n",
      "35-44           5174\n",
      "Under 25        3845\n",
      "45-54           3639\n",
      "55 and Older    1066\n",
      "Name: age, dtype: int64\n",
      "--------------------------------------------------\n",
      "D Felony                                    8773\n",
      "C Felony                                    5664\n",
      "Aggravated Misdemeanor                      4076\n",
      "B Felony                                    1494\n",
      "Felony - Enhancement to Original Penalty    1200\n",
      "Others                                       439\n",
      "Name: offence_class, dtype: int64\n",
      "--------------------------------------------------\n",
      "Drug            6603\n",
      "Property        6091\n",
      "Violent         4854\n",
      "Public Order    3097\n",
      "Other           1001\n",
      "Name: offence_type, dtype: int64\n",
      "--------------------------------------------------\n",
      "Parole        14455\n",
      "Discharged     6254\n",
      "Others          937\n",
      "Name: release_type, dtype: int64\n",
      "--------------------------------------------------\n",
      "Yes    11468\n",
      "No     10178\n",
      "Name: targeted, dtype: int64\n",
      "--------------------------------------------------\n",
      "0    14619\n",
      "1     7027\n",
      "Name: recidivism, dtype: int64\n",
      "--------------------------------------------------\n"
     ]
    }
   ],
   "source": [
    "# recode minor categories of the categorical features, as well as categories that mean the same thing\n",
    "full.loc[(full['race'] != 'White - Non-Hispanic') &\n",
    "         (full['race'] != 'Black - Non-Hispanic') &\n",
    "         (full['race'] != 'White - Hispanic'),'race'] = 'Others'\n",
    "\n",
    "full.loc[(full['offence_class'] != 'D Felony') &\n",
    "         (full['offence_class'] != 'C Felony') &\n",
    "         (full['offence_class'] != 'Aggravated Misdemeanor') &\n",
    "         (full['offence_class'] != 'B Felony') &\n",
    "         (full['offence_class'] != 'Felony - Enhancement to Original Penalty'),'offence_class'] = 'Others'\n",
    "\n",
    "full.loc[(full['release_type']=='Parole Granted'),'release_type'] = 'Parole'\n",
    "\n",
    "full['discharged'] = full['release_type'].apply(lambda x: x[0:10]=='Discharged')\n",
    "full.loc[(full['discharged']==True),'release_type'] = 'Discharged'\n",
    "del full['discharged']\n",
    "\n",
    "full.loc[(full['release_type']!='Parole') &\n",
    "         (full['release_type']!='Discharged'),'release_type'] = 'Others'\n",
    "\n",
    "# check that the recoding was performed correctly\n",
    "for x in list(full):\n",
    "    print(full[x].value_counts())\n",
    "    print('-'*50)"
   ]
  },
  {
   "cell_type": "code",
   "execution_count": 8,
   "metadata": {},
   "outputs": [
    {
     "data": {
      "text/plain": [
       "<matplotlib.axes._subplots.AxesSubplot at 0x1b008136b00>"
      ]
     },
     "execution_count": 8,
     "metadata": {},
     "output_type": "execute_result"
    },
    {
     "data": {
      "image/png": "[encoded data removed]",
      "text/plain": [
       "<Figure size 1152x288 with 3 Axes>"
      ]
     },
     "metadata": {},
     "output_type": "display_data"
    }
   ],
   "source": [
    "# plot some possibly useful graphs\n",
    "fig, saxis = plt.subplots(1, 3,figsize=(16,4)) # to fit 1 rows and 3 columns worth of subplots in one plot\n",
    "\n",
    "sns.barplot(x = 'race', y = 'recidivism', data=full, ax = saxis[0])\n",
    "sns.barplot(x = 'sex', y = 'recidivism', data=full, ax = saxis[1])\n",
    "sns.barplot(x = 'age', y = 'recidivism', data=full, ax = saxis[2])"
   ]
  },
  {
   "cell_type": "code",
   "execution_count": 9,
   "metadata": {},
   "outputs": [
    {
     "data": {
      "text/plain": [
       "<matplotlib.axes._subplots.AxesSubplot at 0x1b00820a0b8>"
      ]
     },
     "execution_count": 9,
     "metadata": {},
     "output_type": "execute_result"
    },
    {
     "data": {
      "image/png": "[encoded data removed]",
      "text/plain": [
       "<Figure size 1152x576 with 4 Axes>"
      ]
     },
     "metadata": {},
     "output_type": "display_data"
    }
   ],
   "source": [
    "# plot some possibly useful graphs (continued)\n",
    "fig, saxis = plt.subplots(2, 2,figsize=(16,8)) # to fit 2 rows and 2 columns worth of subplots in one plot\n",
    "\n",
    "sns.barplot(x = 'offence_class', y = 'recidivism', data=full, ax = saxis[0][0])\n",
    "sns.barplot(x = 'offence_type', y = 'recidivism', data=full, ax = saxis[0][1])\n",
    "sns.barplot(x = 'release_type', y = 'recidivism', data=full, ax = saxis[1][0])\n",
    "sns.barplot(x = 'targeted', y = 'recidivism', data=full, ax = saxis[1][1])"
   ]
  },
  {
   "cell_type": "code",
   "execution_count": 10,
   "metadata": {},
   "outputs": [],
   "source": [
    "# dummify all categorical variables\n",
    "full = pd.get_dummies(full)"
   ]
  },
  {
   "cell_type": "code",
   "execution_count": 11,
   "metadata": {},
   "outputs": [],
   "source": [
    "# split the cleaned full dataset into train and test datasets\n",
    "from sklearn import model_selection\n",
    "xtrain, xtest, ytrain, ytest = model_selection.train_test_split(full.drop(['recidivism'], axis=1), full['recidivism'], test_size=0.2, shuffle=True)"
   ]
  },
  {
   "cell_type": "code",
   "execution_count": 12,
   "metadata": {},
   "outputs": [
    {
     "name": "stdout",
     "output_type": "stream",
     "text": [
      "the mean training accuracy is: 0.6808282701554738\n",
      "the mean validation accuracy is: 0.6771194382878136\n",
      "Correct      0.675982\n",
      "Incorrect    0.324018\n",
      "Name: correct, dtype: float64\n"
     ]
    },
    {
     "data": {
      "image/png": "[encoded data removed]",
      "text/plain": [
       "<Figure size 432x288 with 1 Axes>"
      ]
     },
     "metadata": {},
     "output_type": "display_data"
    }
   ],
   "source": [
    "# random forest\n",
    "from sklearn.ensemble import RandomForestClassifier\n",
    "\n",
    "# initialize a template for random forest, based on the parameters you want to set\n",
    "my_rfc = RandomForestClassifier(n_jobs = -1, # fully utilize the cores on your computer\n",
    "                                n_estimators = 200, # number of trees\n",
    "                                max_features = \"sqrt\", # number of features to consider at each split\n",
    "                                max_depth = 8) # maximum tree depth\n",
    "\n",
    "# 10-fold CV\n",
    "cv_results = model_selection.cross_validate(my_rfc,\n",
    "                                            xtrain,\n",
    "                                            ytrain,\n",
    "                                            scoring = 'accuracy',\n",
    "                                            cv = 10)\n",
    "\n",
    "print(\"the mean training accuracy is:\", cv_results['train_score'].mean())\n",
    "print(\"the mean validation accuracy is:\", cv_results['test_score'].mean())\n",
    "\n",
    "# fit the random forest\n",
    "rf1 = my_rfc.fit(xtrain,ytrain)\n",
    "\n",
    "# plot feature importance (as determined by the built random forest model)\n",
    "feature_importances = pd.Series(rf1.feature_importances_, index=xtrain.columns)\n",
    "feature_importances = feature_importances.sort_values(ascending=False) # sort from highest to lowest importance; for pandas dataframe sorting, refer to https://pandas.pydata.org/pandas-docs/stable/generated/pandas.DataFrame.sort_values.html\n",
    "feature_importances.nlargest(10).plot(kind='barh')\n",
    "\n",
    "# use the fitted model to make predictions, then check the accuracy of the test predictions\n",
    "predictions_rf = rf1.predict(xtest)\n",
    "predictions_rf = predictions_rf.astype('int')\n",
    "predictions_rf = pd.DataFrame({'pred':predictions_rf})\n",
    "predictions_rf.reset_index(drop=True, inplace=True)\n",
    "\n",
    "ytest = pd.DataFrame({'recidivism':ytest})\n",
    "ytest.reset_index(drop=True, inplace=True)\n",
    "\n",
    "ytest_predictions_rf = pd.concat([predictions_rf,ytest],axis='columns')\n",
    "ytest_predictions_rf['correct'] = 'Incorrect'\n",
    "ytest_predictions_rf.loc[(ytest_predictions_rf['pred']==ytest_predictions_rf['recidivism']),'correct'] = 'Correct'\n",
    "print(ytest_predictions_rf['correct'].value_counts()/ytest_predictions_rf.shape[0])"
   ]
  },
  {
   "cell_type": "code",
   "execution_count": 13,
   "metadata": {},
   "outputs": [
    {
     "data": {
      "text/plain": [
       "0    4274\n",
       "1      56\n",
       "Name: pred, dtype: int64"
      ]
     },
     "execution_count": 13,
     "metadata": {},
     "output_type": "execute_result"
    }
   ],
   "source": [
    "# the random forest has the same accuracy as the baseline; this suggests that the random forest is simply ignoring the minority class\n",
    "ytest_predictions_rf['pred'].value_counts() # the random forest is indeed underpredicting the minority class"
   ]
  },
  {
   "cell_type": "code",
   "execution_count": 14,
   "metadata": {},
   "outputs": [
    {
     "name": "stdout",
     "output_type": "stream",
     "text": [
      "[[2898   27]\n",
      " [1376   29]]\n",
      "--------------------------------------------------\n",
      "[[99  0]\n",
      " [97  2]]\n"
     ]
    }
   ],
   "source": [
    "# confusion matrix\n",
    "from sklearn.metrics import confusion_matrix\n",
    "\n",
    "print(confusion_matrix(ytest_predictions_rf['recidivism'], ytest_predictions_rf['pred']))\n",
    "print('-'*50)\n",
    "\n",
    "cm = confusion_matrix(ytest_predictions_rf['recidivism'], ytest_predictions_rf['pred'])\n",
    "cm[0] = cm[0]/cm[0].sum()*100\n",
    "cm[1] = cm[1]/cm[1].sum()*100\n",
    "print(cm)\n",
    "# proportion of non-recidivists who are correctly identified as such: 99% (this is the true negative rate / specificity)\n",
    "# proportion of recidivists who are correctly identified as such: 2% (this is true positive rate / sensitivity / recall)"
   ]
  },
  {
   "cell_type": "code",
   "execution_count": 15,
   "metadata": {},
   "outputs": [
    {
     "name": "stdout",
     "output_type": "stream",
     "text": [
      "the mean training accuracy is: 0.6060098198052899\n",
      "the mean validation accuracy is: 0.5839102126155543\n",
      "Correct      0.583372\n",
      "Incorrect    0.416628\n",
      "Name: correct, dtype: float64\n"
     ]
    },
    {
     "data": {
      "image/png": "[encoded data removed]",
      "text/plain": [
       "<Figure size 432x288 with 1 Axes>"
      ]
     },
     "metadata": {},
     "output_type": "display_data"
    }
   ],
   "source": [
    "# random forest, but we assign higher weights to the minority class, so as to prevent the forest from being biased towards the majority class\n",
    "from sklearn.ensemble import RandomForestClassifier\n",
    "\n",
    "# initialize a template for random forest, based on the parameters you want to set\n",
    "my_rfc = RandomForestClassifier(n_jobs = -1, # fully utilize the cores on your computer\n",
    "                                n_estimators = 200, # number of trees\n",
    "                                max_features = \"sqrt\", # number of features to consider at each split\n",
    "                                class_weight = 'balanced',\n",
    "                                max_depth = 8) # maximum tree depth\n",
    "\n",
    "# 10-fold CV\n",
    "cv_results = model_selection.cross_validate(my_rfc,\n",
    "                                            xtrain,\n",
    "                                            ytrain,\n",
    "                                            scoring = 'accuracy',\n",
    "                                            cv = 10)\n",
    "\n",
    "print(\"the mean training accuracy is:\", cv_results['train_score'].mean())\n",
    "print(\"the mean validation accuracy is:\", cv_results['test_score'].mean())\n",
    "\n",
    "# fit the random forest\n",
    "rf1 = my_rfc.fit(xtrain,ytrain)\n",
    "\n",
    "# plot feature importance (as determined by the built random forest model)\n",
    "feature_importances = pd.Series(rf1.feature_importances_, index=xtrain.columns)\n",
    "feature_importances = feature_importances.sort_values(ascending=False) # sort from highest to lowest importance; for pandas dataframe sorting, refer to https://pandas.pydata.org/pandas-docs/stable/generated/pandas.DataFrame.sort_values.html\n",
    "feature_importances.nlargest(10).plot(kind='barh')\n",
    "\n",
    "# use the fitted model to make predictions, then check the accuracy of the test predictions\n",
    "predictions_rf = rf1.predict(xtest)\n",
    "predictions_rf = predictions_rf.astype('int')\n",
    "predictions_rf = pd.DataFrame({'pred':predictions_rf})\n",
    "predictions_rf.reset_index(drop=True, inplace=True)\n",
    "\n",
    "ytest_predictions_rf = pd.concat([predictions_rf,ytest],axis='columns')\n",
    "ytest_predictions_rf['correct'] = 'Incorrect'\n",
    "ytest_predictions_rf.loc[(ytest_predictions_rf['pred']==ytest_predictions_rf['recidivism']),'correct'] = 'Correct'\n",
    "print(ytest_predictions_rf['correct'].value_counts()/ytest_predictions_rf.shape[0])\n",
    "# random forest with class balancing has lower accuracy than the basic random forest, but sensitivity may be better"
   ]
  },
  {
   "cell_type": "code",
   "execution_count": 16,
   "metadata": {},
   "outputs": [
    {
     "name": "stdout",
     "output_type": "stream",
     "text": [
      "1    2215\n",
      "0    2115\n",
      "Name: pred, dtype: int64\n"
     ]
    }
   ],
   "source": [
    "# first, let's check if the random forest is still underpredicting the minority class (shouldn't be the case)\n",
    "print(ytest_predictions_rf['pred'].value_counts()) # random forest is not underpredicting the minority class"
   ]
  },
  {
   "cell_type": "code",
   "execution_count": 17,
   "metadata": {},
   "outputs": [
    {
     "name": "stdout",
     "output_type": "stream",
     "text": [
      "[[1618 1307]\n",
      " [ 497  908]]\n",
      "--------------------------------------------------\n",
      "[[55 44]\n",
      " [35 64]]\n"
     ]
    }
   ],
   "source": [
    "# next, let's check the confusion matrix; bottom-right value reflects sensitivity\n",
    "from sklearn.metrics import confusion_matrix\n",
    "\n",
    "print(confusion_matrix(ytest_predictions_rf['recidivism'], ytest_predictions_rf['pred']))\n",
    "print('-'*50)\n",
    "\n",
    "cm = confusion_matrix(ytest_predictions_rf['recidivism'], ytest_predictions_rf['pred'])\n",
    "cm[0] = cm[0]/cm[0].sum()*100\n",
    "cm[1] = cm[1]/cm[1].sum()*100\n",
    "print(cm)\n",
    "# proportion of non-recidivists who are correctly identified as such: 55% (this is the true negative rate / specificity)\n",
    "# proportion of recidivists who are correctly identified as such: 64% (this is true positive rate / sensitivity / recall)"
   ]
  },
  {
   "cell_type": "code",
   "execution_count": null,
   "metadata": {},
   "outputs": [],
   "source": []
  }
 ],
 "metadata": {
  "kernelspec": {
   "display_name": "Python 3",
   "language": "python",
   "name": "python3"
  },
  "language_info": {
   "codemirror_mode": {
    "name": "ipython",
    "version": 3
   },
   "file_extension": ".py",
   "mimetype": "text/x-python",
   "name": "python",
   "nbconvert_exporter": "python",
   "pygments_lexer": "ipython3",
   "version": "3.6.5"
  }
 },
 "nbformat": 4,
 "nbformat_minor": 2
}
